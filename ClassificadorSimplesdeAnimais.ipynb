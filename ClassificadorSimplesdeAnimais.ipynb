{
  "nbformat": 4,
  "nbformat_minor": 0,
  "metadata": {
    "colab": {
      "name": "AnalizarSentimentos.ipynb",
      "provenance": [],
      "collapsed_sections": [],
      "toc_visible": true,
      "authorship_tag": "ABX9TyP6D/iswkU5/Ls5C3IjvD/g",
      "include_colab_link": true
    },
    "kernelspec": {
      "name": "python3",
      "display_name": "Python 3"
    }
  },
  "cells": [
    {
      "cell_type": "markdown",
      "metadata": {
        "id": "view-in-github",
        "colab_type": "text"
      },
      "source": [
        "<a href=\"https://colab.research.google.com/github/RodrigoOBC/Notebook_MarcineLearning/blob/master/ClassificadorSimplesdeAnimais.ipynb\" target=\"_parent\"><img src=\"https://colab.research.google.com/assets/colab-badge.svg\" alt=\"Open In Colab\"/></a>"
      ]
    },
    {
      "cell_type": "code",
      "metadata": {
        "id": "GlS5LX98ws0u"
      },
      "source": [
        "from sklearn.svm import LinearSVC\r\n",
        "from sklearn.metrics import accuracy_score"
      ],
      "execution_count": 1,
      "outputs": []
    },
    {
      "cell_type": "code",
      "metadata": {
        "id": "z9VgHljza084"
      },
      "source": [
        "#Pelo longo? perna curta? fala? \r\n",
        "porco1 = [0,1,0]\r\n",
        "porco2 = [0,1,1]\r\n",
        "porco3 = [1,1,0]\r\n",
        "cachorro1 = [0,1,1]\r\n",
        "cachorro2 = [1,0,1]\r\n",
        "cachorro3 = [1,1,1]"
      ],
      "execution_count": 2,
      "outputs": []
    },
    {
      "cell_type": "code",
      "metadata": {
        "id": "ftq6mMQca3XR"
      },
      "source": [
        "treino_x = [porco1,porco2,porco3,cachorro1,cachorro2,cachorro3]\r\n",
        "treino_y = [1,1,1,0,0,0]"
      ],
      "execution_count": 4,
      "outputs": []
    },
    {
      "cell_type": "code",
      "metadata": {
        "id": "XKrzZzIAa6Co",
        "colab": {
          "base_uri": "https://localhost:8080/"
        },
        "outputId": "343ce860-ea42-42d2-d4e0-a579f9471f49"
      },
      "source": [
        "model = LinearSVC()\r\n",
        "model.fit(treino_x, treino_y)"
      ],
      "execution_count": 5,
      "outputs": [
        {
          "output_type": "execute_result",
          "data": {
            "text/plain": [
              "LinearSVC(C=1.0, class_weight=None, dual=True, fit_intercept=True,\n",
              "          intercept_scaling=1, loss='squared_hinge', max_iter=1000,\n",
              "          multi_class='ovr', penalty='l2', random_state=None, tol=0.0001,\n",
              "          verbose=0)"
            ]
          },
          "metadata": {
            "tags": []
          },
          "execution_count": 5
        }
      ]
    },
    {
      "cell_type": "code",
      "metadata": {
        "colab": {
          "base_uri": "https://localhost:8080/"
        },
        "id": "GVDJrZcCa9gN",
        "outputId": "690d1d96-3e92-458c-e23e-89edb6efe172"
      },
      "source": [
        "teste_x  = [[1,1,1],[0,1,1],[0,0,0]]\r\n",
        "teste_y = [0,0,1]\r\n",
        "previsao = model.predict(teste_x)\r\n",
        "corretos = (previsao == teste_y).sum()\r\n",
        "total = len(teste_y)\r\n",
        "print(f'Acurácia: {(corretos/total)*100}')"
      ],
      "execution_count": 6,
      "outputs": [
        {
          "output_type": "stream",
          "text": [
            "Acurácia: 100.0\n"
          ],
          "name": "stdout"
        }
      ]
    },
    {
      "cell_type": "code",
      "metadata": {
        "id": "ATDlerzxa-2G",
        "colab": {
          "base_uri": "https://localhost:8080/"
        },
        "outputId": "6f8168fb-33de-4920-ad15-1264e4da0f32"
      },
      "source": [
        "Acuracia = accuracy_score(teste_y,previsao)\r\n",
        "print(f'Acurácia: {Acuracia*100}')"
      ],
      "execution_count": 8,
      "outputs": [
        {
          "output_type": "stream",
          "text": [
            "Acurácia: 100.0\n"
          ],
          "name": "stdout"
        }
      ]
    },
    {
      "cell_type": "code",
      "metadata": {
        "id": "FKRGd25PfdGH",
        "colab": {
          "base_uri": "https://localhost:8080/"
        },
        "outputId": "36299b50-37df-41f6-e613-3bdaaf546e66"
      },
      "source": [
        "previsao"
      ],
      "execution_count": 12,
      "outputs": [
        {
          "output_type": "execute_result",
          "data": {
            "text/plain": [
              "array([0])"
            ]
          },
          "metadata": {
            "tags": []
          },
          "execution_count": 12
        }
      ]
    }
  ]
}