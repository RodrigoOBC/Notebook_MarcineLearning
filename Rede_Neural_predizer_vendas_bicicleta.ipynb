{
  "nbformat": 4,
  "nbformat_minor": 0,
  "metadata": {
    "colab": {
      "name": "Untitled11.ipynb",
      "provenance": [],
      "collapsed_sections": [],
      "authorship_tag": "ABX9TyPGRAL25lRdk3iyqo+YyQ6W",
      "include_colab_link": true
    },
    "kernelspec": {
      "name": "python3",
      "display_name": "Python 3"
    },
    "accelerator": "GPU"
  },
  "cells": [
    {
      "cell_type": "markdown",
      "metadata": {
        "id": "view-in-github",
        "colab_type": "text"
      },
      "source": [
        "<a href=\"https://colab.research.google.com/github/RodrigoOBC/Notebook_MarcineLearning/blob/master/Rede_Neural_predizer_vendas_bicicleta.ipynb\" target=\"_parent\"><img src=\"https://colab.research.google.com/assets/colab-badge.svg\" alt=\"Open In Colab\"/></a>"
      ]
    },
    {
      "cell_type": "code",
      "metadata": {
        "id": "NFo3rIhEDJmO"
      },
      "source": [
        "import torch\r\n",
        "from torch import nn\r\n",
        "from torch import optim\r\n",
        "\r\n",
        "from torch.utils.data import Dataset\r\n",
        "from torch.utils.data import DataLoader\r\n",
        "\r\n",
        "from sklearn import metrics\r\n",
        "from sklearn.preprocessing import StandardScaler\r\n",
        "\r\n",
        "import pandas as pd\r\n",
        "import numpy as np\r\n",
        "import time\r\n",
        "import os\r\n",
        "\r\n",
        "\r\n",
        "import matplotlib.pyplot as plt\r\n",
        "%matplotlib inline"
      ],
      "execution_count": 1,
      "outputs": []
    },
    {
      "cell_type": "code",
      "metadata": {
        "colab": {
          "base_uri": "https://localhost:8080/"
        },
        "id": "gLnVxOPXDQS6",
        "outputId": "4071bf13-907a-4d3f-fc91-959f9960f0d4"
      },
      "source": [
        "args = {\r\n",
        "    'epoch_num': 200,     # Número de épocas.\r\n",
        "    'lr': 5e-5,           # Taxa de aprendizado.\r\n",
        "    'weight_decay': 5e-4, # Penalidade L2 (Regularização).\r\n",
        "    'num_workers': 3,     # Número de threads do dataloader.\r\n",
        "    'batch_size': 20,     # Tamanho do batch.\r\n",
        "}\r\n",
        "\r\n",
        "if torch.cuda.is_available():\r\n",
        "    args['device'] = torch.device('cuda')\r\n",
        "else:\r\n",
        "    args['device'] = torch.device('cpu')\r\n",
        "\r\n",
        "print(args['device'])"
      ],
      "execution_count": 2,
      "outputs": [
        {
          "output_type": "stream",
          "text": [
            "cuda\n"
          ],
          "name": "stdout"
        }
      ]
    },
    {
      "cell_type": "code",
      "metadata": {
        "colab": {
          "base_uri": "https://localhost:8080/"
        },
        "id": "X4LQT_j9DSkD",
        "outputId": "b941de1e-e74f-41f4-93ae-c21394446192"
      },
      "source": [
        "! wget https://archive.ics.uci.edu/ml/machine-learning-databases/00275/Bike-Sharing-Dataset.zip\r\n",
        "! unzip Bike-Sharing-Dataset.zip\r\n"
      ],
      "execution_count": 3,
      "outputs": [
        {
          "output_type": "stream",
          "text": [
            "--2020-12-12 22:23:48--  https://archive.ics.uci.edu/ml/machine-learning-databases/00275/Bike-Sharing-Dataset.zip\n",
            "Resolving archive.ics.uci.edu (archive.ics.uci.edu)... 128.195.10.252\n",
            "Connecting to archive.ics.uci.edu (archive.ics.uci.edu)|128.195.10.252|:443... connected.\n",
            "HTTP request sent, awaiting response... 200 OK\n",
            "Length: 279992 (273K) [application/x-httpd-php]\n",
            "Saving to: ‘Bike-Sharing-Dataset.zip’\n",
            "\n",
            "Bike-Sharing-Datase 100%[===================>] 273.43K   996KB/s    in 0.3s    \n",
            "\n",
            "2020-12-12 22:23:49 (996 KB/s) - ‘Bike-Sharing-Dataset.zip’ saved [279992/279992]\n",
            "\n",
            "Archive:  Bike-Sharing-Dataset.zip\n",
            "  inflating: Readme.txt              \n",
            "  inflating: day.csv                 \n",
            "  inflating: hour.csv                \n"
          ],
          "name": "stdout"
        }
      ]
    },
    {
      "cell_type": "code",
      "metadata": {
        "colab": {
          "base_uri": "https://localhost:8080/",
          "height": 204
        },
        "id": "DEL6coEwDYo2",
        "outputId": "ee6d1084-81f2-4efc-c434-01a7566aee3a"
      },
      "source": [
        "df = pd.read_csv('hour.csv')\r\n",
        "df.head()"
      ],
      "execution_count": 5,
      "outputs": [
        {
          "output_type": "execute_result",
          "data": {
            "text/html": [
              "<div>\n",
              "<style scoped>\n",
              "    .dataframe tbody tr th:only-of-type {\n",
              "        vertical-align: middle;\n",
              "    }\n",
              "\n",
              "    .dataframe tbody tr th {\n",
              "        vertical-align: top;\n",
              "    }\n",
              "\n",
              "    .dataframe thead th {\n",
              "        text-align: right;\n",
              "    }\n",
              "</style>\n",
              "<table border=\"1\" class=\"dataframe\">\n",
              "  <thead>\n",
              "    <tr style=\"text-align: right;\">\n",
              "      <th></th>\n",
              "      <th>instant</th>\n",
              "      <th>dteday</th>\n",
              "      <th>season</th>\n",
              "      <th>yr</th>\n",
              "      <th>mnth</th>\n",
              "      <th>hr</th>\n",
              "      <th>holiday</th>\n",
              "      <th>weekday</th>\n",
              "      <th>workingday</th>\n",
              "      <th>weathersit</th>\n",
              "      <th>temp</th>\n",
              "      <th>atemp</th>\n",
              "      <th>hum</th>\n",
              "      <th>windspeed</th>\n",
              "      <th>casual</th>\n",
              "      <th>registered</th>\n",
              "      <th>cnt</th>\n",
              "    </tr>\n",
              "  </thead>\n",
              "  <tbody>\n",
              "    <tr>\n",
              "      <th>0</th>\n",
              "      <td>1</td>\n",
              "      <td>2011-01-01</td>\n",
              "      <td>1</td>\n",
              "      <td>0</td>\n",
              "      <td>1</td>\n",
              "      <td>0</td>\n",
              "      <td>0</td>\n",
              "      <td>6</td>\n",
              "      <td>0</td>\n",
              "      <td>1</td>\n",
              "      <td>0.24</td>\n",
              "      <td>0.2879</td>\n",
              "      <td>0.81</td>\n",
              "      <td>0.0</td>\n",
              "      <td>3</td>\n",
              "      <td>13</td>\n",
              "      <td>16</td>\n",
              "    </tr>\n",
              "    <tr>\n",
              "      <th>1</th>\n",
              "      <td>2</td>\n",
              "      <td>2011-01-01</td>\n",
              "      <td>1</td>\n",
              "      <td>0</td>\n",
              "      <td>1</td>\n",
              "      <td>1</td>\n",
              "      <td>0</td>\n",
              "      <td>6</td>\n",
              "      <td>0</td>\n",
              "      <td>1</td>\n",
              "      <td>0.22</td>\n",
              "      <td>0.2727</td>\n",
              "      <td>0.80</td>\n",
              "      <td>0.0</td>\n",
              "      <td>8</td>\n",
              "      <td>32</td>\n",
              "      <td>40</td>\n",
              "    </tr>\n",
              "    <tr>\n",
              "      <th>2</th>\n",
              "      <td>3</td>\n",
              "      <td>2011-01-01</td>\n",
              "      <td>1</td>\n",
              "      <td>0</td>\n",
              "      <td>1</td>\n",
              "      <td>2</td>\n",
              "      <td>0</td>\n",
              "      <td>6</td>\n",
              "      <td>0</td>\n",
              "      <td>1</td>\n",
              "      <td>0.22</td>\n",
              "      <td>0.2727</td>\n",
              "      <td>0.80</td>\n",
              "      <td>0.0</td>\n",
              "      <td>5</td>\n",
              "      <td>27</td>\n",
              "      <td>32</td>\n",
              "    </tr>\n",
              "    <tr>\n",
              "      <th>3</th>\n",
              "      <td>4</td>\n",
              "      <td>2011-01-01</td>\n",
              "      <td>1</td>\n",
              "      <td>0</td>\n",
              "      <td>1</td>\n",
              "      <td>3</td>\n",
              "      <td>0</td>\n",
              "      <td>6</td>\n",
              "      <td>0</td>\n",
              "      <td>1</td>\n",
              "      <td>0.24</td>\n",
              "      <td>0.2879</td>\n",
              "      <td>0.75</td>\n",
              "      <td>0.0</td>\n",
              "      <td>3</td>\n",
              "      <td>10</td>\n",
              "      <td>13</td>\n",
              "    </tr>\n",
              "    <tr>\n",
              "      <th>4</th>\n",
              "      <td>5</td>\n",
              "      <td>2011-01-01</td>\n",
              "      <td>1</td>\n",
              "      <td>0</td>\n",
              "      <td>1</td>\n",
              "      <td>4</td>\n",
              "      <td>0</td>\n",
              "      <td>6</td>\n",
              "      <td>0</td>\n",
              "      <td>1</td>\n",
              "      <td>0.24</td>\n",
              "      <td>0.2879</td>\n",
              "      <td>0.75</td>\n",
              "      <td>0.0</td>\n",
              "      <td>0</td>\n",
              "      <td>1</td>\n",
              "      <td>1</td>\n",
              "    </tr>\n",
              "  </tbody>\n",
              "</table>\n",
              "</div>"
            ],
            "text/plain": [
              "   instant      dteday  season  yr  ...  windspeed  casual  registered  cnt\n",
              "0        1  2011-01-01       1   0  ...        0.0       3          13   16\n",
              "1        2  2011-01-01       1   0  ...        0.0       8          32   40\n",
              "2        3  2011-01-01       1   0  ...        0.0       5          27   32\n",
              "3        4  2011-01-01       1   0  ...        0.0       3          10   13\n",
              "4        5  2011-01-01       1   0  ...        0.0       0           1    1\n",
              "\n",
              "[5 rows x 17 columns]"
            ]
          },
          "metadata": {
            "tags": []
          },
          "execution_count": 5
        }
      ]
    },
    {
      "cell_type": "code",
      "metadata": {
        "id": "DnZnEnXiDdh8"
      },
      "source": [
        "torch.manual_seed(1)\r\n",
        "indices = torch.randperm(len(df)).tolist()"
      ],
      "execution_count": 6,
      "outputs": []
    },
    {
      "cell_type": "code",
      "metadata": {
        "id": "tqa76suyD9dz"
      },
      "source": [
        "train_size = int(0.8*len(df))\r\n",
        "df_train = df.iloc[indices[:train_size]]\r\n",
        "df_test  = df.iloc[indices[train_size:]]"
      ],
      "execution_count": 7,
      "outputs": []
    },
    {
      "cell_type": "code",
      "metadata": {
        "colab": {
          "base_uri": "https://localhost:8080/",
          "height": 204
        },
        "id": "qHxBxAeqEBMg",
        "outputId": "89298c69-eb8a-411d-f4bc-789f544bb30a"
      },
      "source": [
        "display(df_test.head())\r\n",
        "df_train.to_csv('bike_train.csv',index=False)\r\n",
        "df_test.to_csv('bike_test.csv',index=False)"
      ],
      "execution_count": 9,
      "outputs": [
        {
          "output_type": "display_data",
          "data": {
            "text/html": [
              "<div>\n",
              "<style scoped>\n",
              "    .dataframe tbody tr th:only-of-type {\n",
              "        vertical-align: middle;\n",
              "    }\n",
              "\n",
              "    .dataframe tbody tr th {\n",
              "        vertical-align: top;\n",
              "    }\n",
              "\n",
              "    .dataframe thead th {\n",
              "        text-align: right;\n",
              "    }\n",
              "</style>\n",
              "<table border=\"1\" class=\"dataframe\">\n",
              "  <thead>\n",
              "    <tr style=\"text-align: right;\">\n",
              "      <th></th>\n",
              "      <th>instant</th>\n",
              "      <th>dteday</th>\n",
              "      <th>season</th>\n",
              "      <th>yr</th>\n",
              "      <th>mnth</th>\n",
              "      <th>hr</th>\n",
              "      <th>holiday</th>\n",
              "      <th>weekday</th>\n",
              "      <th>workingday</th>\n",
              "      <th>weathersit</th>\n",
              "      <th>temp</th>\n",
              "      <th>atemp</th>\n",
              "      <th>hum</th>\n",
              "      <th>windspeed</th>\n",
              "      <th>casual</th>\n",
              "      <th>registered</th>\n",
              "      <th>cnt</th>\n",
              "    </tr>\n",
              "  </thead>\n",
              "  <tbody>\n",
              "    <tr>\n",
              "      <th>12663</th>\n",
              "      <td>12664</td>\n",
              "      <td>2012-06-16</td>\n",
              "      <td>2</td>\n",
              "      <td>1</td>\n",
              "      <td>6</td>\n",
              "      <td>20</td>\n",
              "      <td>0</td>\n",
              "      <td>6</td>\n",
              "      <td>0</td>\n",
              "      <td>2</td>\n",
              "      <td>0.66</td>\n",
              "      <td>0.6212</td>\n",
              "      <td>0.47</td>\n",
              "      <td>0.1940</td>\n",
              "      <td>123</td>\n",
              "      <td>229</td>\n",
              "      <td>352</td>\n",
              "    </tr>\n",
              "    <tr>\n",
              "      <th>1801</th>\n",
              "      <td>1802</td>\n",
              "      <td>2011-03-20</td>\n",
              "      <td>1</td>\n",
              "      <td>0</td>\n",
              "      <td>3</td>\n",
              "      <td>18</td>\n",
              "      <td>0</td>\n",
              "      <td>0</td>\n",
              "      <td>0</td>\n",
              "      <td>1</td>\n",
              "      <td>0.38</td>\n",
              "      <td>0.3939</td>\n",
              "      <td>0.40</td>\n",
              "      <td>0.3582</td>\n",
              "      <td>58</td>\n",
              "      <td>98</td>\n",
              "      <td>156</td>\n",
              "    </tr>\n",
              "    <tr>\n",
              "      <th>16567</th>\n",
              "      <td>16568</td>\n",
              "      <td>2012-11-28</td>\n",
              "      <td>4</td>\n",
              "      <td>1</td>\n",
              "      <td>11</td>\n",
              "      <td>1</td>\n",
              "      <td>0</td>\n",
              "      <td>3</td>\n",
              "      <td>1</td>\n",
              "      <td>2</td>\n",
              "      <td>0.26</td>\n",
              "      <td>0.2576</td>\n",
              "      <td>0.75</td>\n",
              "      <td>0.2239</td>\n",
              "      <td>0</td>\n",
              "      <td>12</td>\n",
              "      <td>12</td>\n",
              "    </tr>\n",
              "    <tr>\n",
              "      <th>8817</th>\n",
              "      <td>8818</td>\n",
              "      <td>2012-01-08</td>\n",
              "      <td>1</td>\n",
              "      <td>1</td>\n",
              "      <td>1</td>\n",
              "      <td>5</td>\n",
              "      <td>0</td>\n",
              "      <td>0</td>\n",
              "      <td>0</td>\n",
              "      <td>2</td>\n",
              "      <td>0.32</td>\n",
              "      <td>0.3333</td>\n",
              "      <td>0.49</td>\n",
              "      <td>0.1045</td>\n",
              "      <td>0</td>\n",
              "      <td>2</td>\n",
              "      <td>2</td>\n",
              "    </tr>\n",
              "    <tr>\n",
              "      <th>2608</th>\n",
              "      <td>2609</td>\n",
              "      <td>2011-04-23</td>\n",
              "      <td>2</td>\n",
              "      <td>0</td>\n",
              "      <td>4</td>\n",
              "      <td>14</td>\n",
              "      <td>0</td>\n",
              "      <td>6</td>\n",
              "      <td>0</td>\n",
              "      <td>1</td>\n",
              "      <td>0.58</td>\n",
              "      <td>0.5455</td>\n",
              "      <td>0.78</td>\n",
              "      <td>0.3582</td>\n",
              "      <td>182</td>\n",
              "      <td>209</td>\n",
              "      <td>391</td>\n",
              "    </tr>\n",
              "  </tbody>\n",
              "</table>\n",
              "</div>"
            ],
            "text/plain": [
              "       instant      dteday  season  yr  ...  windspeed  casual  registered  cnt\n",
              "12663    12664  2012-06-16       2   1  ...     0.1940     123         229  352\n",
              "1801      1802  2011-03-20       1   0  ...     0.3582      58          98  156\n",
              "16567    16568  2012-11-28       4   1  ...     0.2239       0          12   12\n",
              "8817      8818  2012-01-08       1   1  ...     0.1045       0           2    2\n",
              "2608      2609  2011-04-23       2   0  ...     0.3582     182         209  391\n",
              "\n",
              "[5 rows x 17 columns]"
            ]
          },
          "metadata": {
            "tags": []
          }
        }
      ]
    },
    {
      "cell_type": "code",
      "metadata": {
        "id": "CSLsOt5jEFYL"
      },
      "source": [
        "class Bicicletas(Dataset):\r\n",
        "  def __init__(self, csv_path, scaler_feat=None, scaler_label=None):\r\n",
        "    self.dados = pd.read_csv(csv_path).to_numpy()\r\n",
        "    \r\n",
        "  def __getitem__(self, idx):\r\n",
        "    \r\n",
        "    sample = self.dados[idx][2:14]\r\n",
        "    target  = self.dados[idx][-1:]\r\n",
        "    \r\n",
        "    # converte para tensor\r\n",
        "    sample = torch.from_numpy(sample.astype(np.float32))\r\n",
        "    target  = torch.from_numpy(target.astype(np.float32))\r\n",
        "    \r\n",
        "    return sample, target\r\n",
        "    \r\n",
        "  def __len__(self):\r\n",
        "    return len(self.dados)"
      ],
      "execution_count": 11,
      "outputs": []
    },
    {
      "cell_type": "code",
      "metadata": {
        "id": "6ZWjbRqiEzUM"
      },
      "source": [
        "df_train = Bicicletas('bike_train.csv')\r\n",
        "df_test = Bicicletas('bike_test.csv')\r\n"
      ],
      "execution_count": 18,
      "outputs": []
    },
    {
      "cell_type": "code",
      "metadata": {
        "colab": {
          "base_uri": "https://localhost:8080/"
        },
        "id": "FxB9ia3mGGh8",
        "outputId": "9a70e812-fdb2-4768-ca04-6c2b76791710"
      },
      "source": [
        "df_train[0]"
      ],
      "execution_count": 19,
      "outputs": [
        {
          "output_type": "execute_result",
          "data": {
            "text/plain": [
              "(tensor([ 4.0000,  1.0000, 11.0000, 19.0000,  0.0000,  4.0000,  1.0000,  1.0000,\n",
              "          0.3800,  0.3939,  0.2700,  0.3582]), tensor([373.]))"
            ]
          },
          "metadata": {
            "tags": []
          },
          "execution_count": 19
        }
      ]
    },
    {
      "cell_type": "code",
      "metadata": {
        "id": "t3bkjQ2eGPIS"
      },
      "source": [
        "train_loader = DataLoader(df_train,\r\n",
        "                          args['batch_size'],\r\n",
        "                          num_workers=args['num_workers'],\r\n",
        "                          shuffle=True)\r\n",
        "test_loader = DataLoader(df_test,\r\n",
        "                         args['batch_size'],\r\n",
        "                         num_workers=args['num_workers'],\r\n",
        "                         shuffle=False)"
      ],
      "execution_count": 21,
      "outputs": []
    },
    {
      "cell_type": "code",
      "metadata": {
        "colab": {
          "base_uri": "https://localhost:8080/"
        },
        "id": "LYyLG7efGeeT",
        "outputId": "e6e5f888-8b4a-4482-cdd8-36b6478bd134"
      },
      "source": [
        "for batch in test_loader:\r\n",
        "  \r\n",
        "  dado, rotulo = batch\r\n",
        "  print('## Dimensionalidade do batch ##')\r\n",
        "  print(dado.size(), rotulo.size())\r\n",
        "  \r\n",
        "  break"
      ],
      "execution_count": 22,
      "outputs": [
        {
          "output_type": "stream",
          "text": [
            "## Dimensionalidade do batch ##\n",
            "torch.Size([20, 12]) torch.Size([20, 1])\n"
          ],
          "name": "stdout"
        }
      ]
    },
    {
      "cell_type": "code",
      "metadata": {
        "id": "Uf_xaWY_GpiL"
      },
      "source": [
        "class MLP(nn.Module):\r\n",
        "  \r\n",
        "  def __init__(self, input_size, hidden_size, out_size):\r\n",
        "    super(MLP, self).__init__()\r\n",
        "    \r\n",
        "    self.features = nn.Sequential(\r\n",
        "          nn.Linear(input_size, hidden_size),\r\n",
        "          nn.ReLU(),\r\n",
        "          nn.Linear(hidden_size, hidden_size),\r\n",
        "          nn.ReLU(),\r\n",
        "    )\r\n",
        "    \r\n",
        "    self.classifier = nn.Sequential(\r\n",
        "        nn.Linear(hidden_size, out_size),\r\n",
        "        nn.ReLU(),\r\n",
        "    )\r\n",
        "\r\n",
        "  def forward(self, X):\r\n",
        "    \r\n",
        "    hidden = self.features(X)\r\n",
        "    output = self.classifier(hidden)\r\n",
        "    \r\n",
        "    return output"
      ],
      "execution_count": 24,
      "outputs": []
    },
    {
      "cell_type": "code",
      "metadata": {
        "colab": {
          "base_uri": "https://localhost:8080/"
        },
        "id": "Xk-_6Vd5HTdq",
        "outputId": "02677247-a2f5-4142-c8c0-826ec57c4961"
      },
      "source": [
        "input_size  = df_train[0][0].size(0)\r\n",
        "hidden_size = 128\r\n",
        "out_size    = 1\r\n",
        "\r\n",
        "Rede_nn = MLP(input_size, hidden_size, out_size).to(args['device'])\r\n",
        "Rede_nn"
      ],
      "execution_count": 26,
      "outputs": [
        {
          "output_type": "execute_result",
          "data": {
            "text/plain": [
              "MLP(\n",
              "  (features): Sequential(\n",
              "    (0): Linear(in_features=12, out_features=128, bias=True)\n",
              "    (1): ReLU()\n",
              "    (2): Linear(in_features=128, out_features=128, bias=True)\n",
              "    (3): ReLU()\n",
              "  )\n",
              "  (classifier): Sequential(\n",
              "    (0): Linear(in_features=128, out_features=1, bias=True)\n",
              "    (1): ReLU()\n",
              "  )\n",
              ")"
            ]
          },
          "metadata": {
            "tags": []
          },
          "execution_count": 26
        }
      ]
    },
    {
      "cell_type": "code",
      "metadata": {
        "id": "LY6yyywPHk16"
      },
      "source": [
        "criterio = nn.L1Loss().to(args['device'])\r\n",
        "\r\n",
        "optimizer = optim.Adam(Rede_nn.parameters(), lr=args['lr'], weight_decay=args['weight_decay'])"
      ],
      "execution_count": 28,
      "outputs": []
    },
    {
      "cell_type": "code",
      "metadata": {
        "id": "ivgaFjvVHxax"
      },
      "source": [
        "def treinamento(train_loader, net, epoch):\r\n",
        "  net.train()\r\n",
        "  start = time.time()\r\n",
        "  epoch_loss  = []\r\n",
        "\r\n",
        "  for batch in train_loader:\r\n",
        "    \r\n",
        "    dado, rotulo = batch\r\n",
        "    dado = dado.to(args['device'])\r\n",
        "    rotulo = rotulo.to(args['device'])\r\n",
        "    ypred = net(dado)\r\n",
        "    loss = criterion(ypred, rotulo)\r\n",
        "    epoch_loss.append(loss.cpu().data)\r\n",
        "    loss.backward()\r\n",
        "    optimizer.step()\r\n",
        "   \r\n",
        "  epoch_loss = np.asarray(epoch_loss)\r\n",
        "  end = time.time()\r\n",
        "  print('#################### Treino ####################')\r\n",
        "  print(f'Epoch {epoch}, Loss: {epoch_loss.mean():.4f} +/- {epoch_loss.std():.4f}, Time: {end-start:.2f}')\r\n",
        "  \r\n",
        "  return epoch_loss.mean()"
      ],
      "execution_count": 36,
      "outputs": []
    },
    {
      "cell_type": "code",
      "metadata": {
        "id": "HzNoXgejIN8q"
      },
      "source": [
        "def testar_rede(test_loader, net, epoch):\r\n",
        "\r\n",
        "\r\n",
        "  net.eval()\r\n",
        "  \r\n",
        "  start = time.time()\r\n",
        "  \r\n",
        "  epoch_loss  = []\r\n",
        "  \r\n",
        "  with torch.no_grad(): \r\n",
        "    for batch in test_loader:\r\n",
        "\r\n",
        "      dado, rotulo = batch\r\n",
        "\r\n",
        "      # Cast do dado na GPU\r\n",
        "      dado = dado.to(args['device'])\r\n",
        "      rotulo = rotulo.to(args['device'])\r\n",
        "\r\n",
        "      # Forward\r\n",
        "      ypred = net(dado)\r\n",
        "      loss = criterion(ypred, rotulo)\r\n",
        "      epoch_loss.append(loss.cpu().data)\r\n",
        "\r\n",
        "  epoch_loss = np.asarray(epoch_loss)\r\n",
        "  \r\n",
        "  end = time.time()\r\n",
        "  print('********** Teste **********')\r\n",
        "  print(f'Epoch {epoch}, Loss: {epoch_loss.mean():.4f} +/- {epoch_loss.std():.4f}, Time: {end-start:.2f}')\r\n",
        "  \r\n",
        "  return epoch_loss.mean()"
      ],
      "execution_count": 38,
      "outputs": []
    },
    {
      "cell_type": "code",
      "metadata": {
        "id": "MYBYbBfdIQ5E"
      },
      "source": [
        ""
      ],
      "execution_count": null,
      "outputs": []
    }
  ]
}