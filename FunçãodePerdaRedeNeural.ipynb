{
  "nbformat": 4,
  "nbformat_minor": 0,
  "metadata": {
    "colab": {
      "name": "Untitled8.ipynb",
      "provenance": [],
      "authorship_tag": "ABX9TyO2FP2kEw6WWCogjJKyGrer",
      "include_colab_link": true
    },
    "kernelspec": {
      "name": "python3",
      "display_name": "Python 3"
    },
    "accelerator": "GPU"
  },
  "cells": [
    {
      "cell_type": "markdown",
      "metadata": {
        "id": "view-in-github",
        "colab_type": "text"
      },
      "source": [
        "<a href=\"https://colab.research.google.com/github/RodrigoOBC/Notebook_MarcineLearning/blob/master/Fun%C3%A7%C3%A3odePerdaRedeNeural.ipynb\" target=\"_parent\"><img src=\"https://colab.research.google.com/assets/colab-badge.svg\" alt=\"Open In Colab\"/></a>"
      ]
    },
    {
      "cell_type": "code",
      "metadata": {
        "id": "TaKnC-7ftX2f"
      },
      "source": [
        "import torch\r\n",
        "from torch import nn\r\n",
        "from sklearn import datasets"
      ],
      "execution_count": 3,
      "outputs": []
    },
    {
      "cell_type": "code",
      "metadata": {
        "colab": {
          "base_uri": "https://localhost:8080/"
        },
        "id": "1MLBMwCYvlA7",
        "outputId": "53dcb495-803c-4ac5-b6e5-102d5b3bccf9"
      },
      "source": [
        "if torch.cuda.is_available():\r\n",
        "  device = torch.device('cuda')\r\n",
        "else:\r\n",
        "  device = torch.device('cpu')\r\n",
        "\r\n",
        "device"
      ],
      "execution_count": 2,
      "outputs": [
        {
          "output_type": "execute_result",
          "data": {
            "text/plain": [
              "device(type='cuda')"
            ]
          },
          "metadata": {
            "tags": []
          },
          "execution_count": 2
        }
      ]
    },
    {
      "cell_type": "code",
      "metadata": {
        "id": "Y1JNMOD8v1xs"
      },
      "source": [
        "Vinhos =  datasets.load_wine()\r\n",
        "np_Data  = Vinhos.data\r\n",
        "np_target = Vinhos.target"
      ],
      "execution_count": 6,
      "outputs": []
    },
    {
      "cell_type": "code",
      "metadata": {
        "colab": {
          "base_uri": "https://localhost:8080/"
        },
        "id": "n2PUW8kmxzk0",
        "outputId": "1042aa02-64fd-4d44-bde4-96562747d74a"
      },
      "source": [
        "Vinhos.feature_names"
      ],
      "execution_count": 8,
      "outputs": [
        {
          "output_type": "execute_result",
          "data": {
            "text/plain": [
              "['alcohol',\n",
              " 'malic_acid',\n",
              " 'ash',\n",
              " 'alcalinity_of_ash',\n",
              " 'magnesium',\n",
              " 'total_phenols',\n",
              " 'flavanoids',\n",
              " 'nonflavanoid_phenols',\n",
              " 'proanthocyanins',\n",
              " 'color_intensity',\n",
              " 'hue',\n",
              " 'od280/od315_of_diluted_wines',\n",
              " 'proline']"
            ]
          },
          "metadata": {
            "tags": []
          },
          "execution_count": 8
        }
      ]
    },
    {
      "cell_type": "code",
      "metadata": {
        "colab": {
          "base_uri": "https://localhost:8080/"
        },
        "id": "ykl-yFA8x1M6",
        "outputId": "6bda7a08-60e3-4679-e070-bff42fcc356d"
      },
      "source": [
        "Vinhos.target_names"
      ],
      "execution_count": 9,
      "outputs": [
        {
          "output_type": "execute_result",
          "data": {
            "text/plain": [
              "array(['class_0', 'class_1', 'class_2'], dtype='<U7')"
            ]
          },
          "metadata": {
            "tags": []
          },
          "execution_count": 9
        }
      ]
    },
    {
      "cell_type": "code",
      "metadata": {
        "id": "YGZJ0wsPyI29"
      },
      "source": [
        "class classificador_vinhos(nn.Module):\r\n",
        "\r\n",
        "  def __init__(self, input_size, hidden_size, out_size):\r\n",
        "    super(classificador_vinhos, self).__init__()\r\n",
        "\r\n",
        "    self.hidden  = nn.Linear(input_size, hidden_size)\r\n",
        "    self.relu    = nn.ReLU()\r\n",
        "    self.out     = nn.Linear(hidden_size, out_size)\r\n",
        "    self.softmax = nn.Softmax()\r\n",
        "\r\n",
        "  def forward(self, X):\r\n",
        "    \r\n",
        "    feature = self.relu(self.hidden(X))\r\n",
        "    output  = self.softmax(self.out(feature))\r\n",
        "\r\n",
        "    return output"
      ],
      "execution_count": 45,
      "outputs": []
    },
    {
      "cell_type": "code",
      "metadata": {
        "colab": {
          "base_uri": "https://localhost:8080/"
        },
        "id": "J4_ip2fCzsLb",
        "outputId": "95b4c630-291b-4a37-c175-8619126020ba"
      },
      "source": [
        "input = np_Data.shape[1]\r\n",
        "hidden =  32\r\n",
        "out = len(Vinhos.target_names)\r\n",
        "rede = classificador_vinhos(input,hidden,out)\r\n",
        "rede.to(device)"
      ],
      "execution_count": 46,
      "outputs": [
        {
          "output_type": "execute_result",
          "data": {
            "text/plain": [
              "classificador_vinhos(\n",
              "  (hidden): Linear(in_features=13, out_features=32, bias=True)\n",
              "  (relu): ReLU()\n",
              "  (out): Linear(in_features=32, out_features=3, bias=True)\n",
              "  (softmax): Softmax(dim=None)\n",
              ")"
            ]
          },
          "metadata": {
            "tags": []
          },
          "execution_count": 46
        }
      ]
    },
    {
      "cell_type": "code",
      "metadata": {
        "colab": {
          "base_uri": "https://localhost:8080/"
        },
        "id": "DELjUbzE0pOE",
        "outputId": "32edc44d-b777-4599-d5ce-27371414faa1"
      },
      "source": [
        "print(rede)"
      ],
      "execution_count": 47,
      "outputs": [
        {
          "output_type": "stream",
          "text": [
            "classificador_vinhos(\n",
            "  (hidden): Linear(in_features=13, out_features=32, bias=True)\n",
            "  (relu): ReLU()\n",
            "  (out): Linear(in_features=32, out_features=3, bias=True)\n",
            "  (softmax): Softmax(dim=None)\n",
            ")\n"
          ],
          "name": "stdout"
        }
      ]
    },
    {
      "cell_type": "code",
      "metadata": {
        "id": "OG4VZdix1JR7"
      },
      "source": [
        "criterio = nn.CrossEntropyLoss().to(device)"
      ],
      "execution_count": 15,
      "outputs": []
    },
    {
      "cell_type": "code",
      "metadata": {
        "id": "zKZ3azlq11uN"
      },
      "source": [
        "Xtensor = torch.from_numpy(np_Data).float()\r\n",
        "Ytensor = torch.from_numpy(np_target)"
      ],
      "execution_count": 48,
      "outputs": []
    },
    {
      "cell_type": "code",
      "metadata": {
        "id": "Ea0XElqd1wjN"
      },
      "source": [
        "Xtensor = Xtensor.to(device)\r\n",
        "Ytensor = Ytensor.to(device)"
      ],
      "execution_count": 49,
      "outputs": []
    },
    {
      "cell_type": "code",
      "metadata": {
        "colab": {
          "base_uri": "https://localhost:8080/"
        },
        "id": "657lTG142T8d",
        "outputId": "01762d64-f5d1-4277-a714-cb38bf1a263c"
      },
      "source": [
        "Xtensor.dtype"
      ],
      "execution_count": 50,
      "outputs": [
        {
          "output_type": "execute_result",
          "data": {
            "text/plain": [
              "torch.float32"
            ]
          },
          "metadata": {
            "tags": []
          },
          "execution_count": 50
        }
      ]
    },
    {
      "cell_type": "code",
      "metadata": {
        "colab": {
          "base_uri": "https://localhost:8080/"
        },
        "id": "S-qYiX642jeO",
        "outputId": "73af869e-2919-4b02-c478-ea05ea6d2e32"
      },
      "source": [
        "Ytensor.dtype"
      ],
      "execution_count": 51,
      "outputs": [
        {
          "output_type": "execute_result",
          "data": {
            "text/plain": [
              "torch.int64"
            ]
          },
          "metadata": {
            "tags": []
          },
          "execution_count": 51
        }
      ]
    },
    {
      "cell_type": "code",
      "metadata": {
        "colab": {
          "base_uri": "https://localhost:8080/"
        },
        "id": "y7rB-cDJ3VzI",
        "outputId": "640fecd5-60d6-459f-ef34-43af3925e2fe"
      },
      "source": [
        "predicao =  rede(Xtensor)"
      ],
      "execution_count": 54,
      "outputs": [
        {
          "output_type": "stream",
          "text": [
            "/usr/local/lib/python3.6/dist-packages/ipykernel_launcher.py:14: UserWarning: Implicit dimension choice for softmax has been deprecated. Change the call to include dim=X as an argument.\n",
            "  \n"
          ],
          "name": "stderr"
        }
      ]
    },
    {
      "cell_type": "code",
      "metadata": {
        "id": "2JyWbdpJ3awz"
      },
      "source": [
        "perda = criterio(predicao,Ytensor)"
      ],
      "execution_count": 55,
      "outputs": []
    },
    {
      "cell_type": "code",
      "metadata": {
        "colab": {
          "base_uri": "https://localhost:8080/"
        },
        "id": "7EQqQkaB8_aQ",
        "outputId": "18ec1683-71dd-4932-9c93-58c8cbc7de96"
      },
      "source": [
        "perda"
      ],
      "execution_count": 56,
      "outputs": [
        {
          "output_type": "execute_result",
          "data": {
            "text/plain": [
              "tensor(1.2199, device='cuda:0', grad_fn=<NllLossBackward>)"
            ]
          },
          "metadata": {
            "tags": []
          },
          "execution_count": 56
        }
      ]
    },
    {
      "cell_type": "code",
      "metadata": {
        "id": "bDkc8S329ApE"
      },
      "source": [
        ""
      ],
      "execution_count": null,
      "outputs": []
    }
  ]
}