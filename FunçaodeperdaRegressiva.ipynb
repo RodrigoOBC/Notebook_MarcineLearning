{
  "nbformat": 4,
  "nbformat_minor": 0,
  "metadata": {
    "colab": {
      "name": "FunçaodeperdaRegressiva.pynb",
      "provenance": [],
      "authorship_tag": "ABX9TyPtUDi8KOixx6t7Ee3Cb9it",
      "include_colab_link": true
    },
    "kernelspec": {
      "name": "python3",
      "display_name": "Python 3"
    },
    "accelerator": "GPU"
  },
  "cells": [
    {
      "cell_type": "markdown",
      "metadata": {
        "id": "view-in-github",
        "colab_type": "text"
      },
      "source": [
        "<a href=\"https://colab.research.google.com/github/RodrigoOBC/Notebook_MarcineLearning/blob/master/Fun%C3%A7aodeperdaRegressiva.ipynb\" target=\"_parent\"><img src=\"https://colab.research.google.com/assets/colab-badge.svg\" alt=\"Open In Colab\"/></a>"
      ]
    },
    {
      "cell_type": "code",
      "metadata": {
        "id": "EzWAlGx_-DdN"
      },
      "source": [
        "import torch\r\n",
        "from torch import nn\r\n",
        "from sklearn import datasets"
      ],
      "execution_count": 1,
      "outputs": []
    },
    {
      "cell_type": "code",
      "metadata": {
        "colab": {
          "base_uri": "https://localhost:8080/"
        },
        "id": "3ZoyRjKN-ENP",
        "outputId": "cd60cbf4-8df5-4c3f-bb03-07175d8f128d"
      },
      "source": [
        "if torch.cuda.is_available():\r\n",
        "  device = torch.device('cuda')\r\n",
        "else:\r\n",
        "  device = torch.device('cpu')\r\n",
        "\r\n",
        "device"
      ],
      "execution_count": 2,
      "outputs": [
        {
          "output_type": "execute_result",
          "data": {
            "text/plain": [
              "device(type='cuda')"
            ]
          },
          "metadata": {
            "tags": []
          },
          "execution_count": 2
        }
      ]
    },
    {
      "cell_type": "code",
      "metadata": {
        "id": "5N8oZkux-FVG"
      },
      "source": [
        "diabetes =  datasets.load_diabetes()\r\n",
        "np_Data  = diabetes.data\r\n",
        "np_target = diabetes.target"
      ],
      "execution_count": 3,
      "outputs": []
    },
    {
      "cell_type": "code",
      "metadata": {
        "id": "SZN5uH6k-fPX"
      },
      "source": [
        "class RedeNeural(nn.Module):\r\n",
        "\r\n",
        "  def __init__(self, input_size, hidden_size, out_size):\r\n",
        "    super(RedeNeural, self).__init__()\r\n",
        "\r\n",
        "    self.hidden  = nn.Linear(input_size, hidden_size)\r\n",
        "    self.relu    = nn.ReLU()\r\n",
        "    self.out     = nn.Linear(hidden_size, out_size)\r\n",
        "    self.softmax = nn.Softmax()\r\n",
        "\r\n",
        "  def forward(self, X):\r\n",
        "    \r\n",
        "    feature = self.relu(self.hidden(X))\r\n",
        "    output  = self.softmax(self.out(feature))\r\n",
        "\r\n",
        "    return output"
      ],
      "execution_count": 4,
      "outputs": []
    },
    {
      "cell_type": "code",
      "metadata": {
        "id": "ZCSIRvZL-r3m",
        "outputId": "1aa43f27-33f5-46e9-9447-865eb7ddeb6b",
        "colab": {
          "base_uri": "https://localhost:8080/"
        }
      },
      "source": [
        "input = np_Data.shape[1]\r\n",
        "hidden =  32\r\n",
        "out = 1\r\n",
        "rede = RedeNeural(input,hidden,out)\r\n",
        "rede.to(device)"
      ],
      "execution_count": 5,
      "outputs": [
        {
          "output_type": "execute_result",
          "data": {
            "text/plain": [
              "RedeNeural(\n",
              "  (hidden): Linear(in_features=10, out_features=32, bias=True)\n",
              "  (relu): ReLU()\n",
              "  (out): Linear(in_features=32, out_features=1, bias=True)\n",
              "  (softmax): Softmax(dim=None)\n",
              ")"
            ]
          },
          "metadata": {
            "tags": []
          },
          "execution_count": 5
        }
      ]
    },
    {
      "cell_type": "code",
      "metadata": {
        "id": "pCy7PnZM--xI"
      },
      "source": [
        "criterio = nn.MSELoss().to(device)"
      ],
      "execution_count": 6,
      "outputs": []
    },
    {
      "cell_type": "code",
      "metadata": {
        "id": "1ZYslc5p_Zse"
      },
      "source": [
        "Xtensor = torch.from_numpy(np_Data).float()\r\n",
        "Ytensor = torch.from_numpy(np_target).float()"
      ],
      "execution_count": 9,
      "outputs": []
    },
    {
      "cell_type": "code",
      "metadata": {
        "id": "hGLAkWEv_k4v"
      },
      "source": [
        "Xtensor = Xtensor.to(device)\r\n",
        "Ytensor = Ytensor.to(device)"
      ],
      "execution_count": 10,
      "outputs": []
    },
    {
      "cell_type": "code",
      "metadata": {
        "id": "begQ9kPe_mJe",
        "outputId": "41b77b07-0f57-4cad-8357-f714555695c1",
        "colab": {
          "base_uri": "https://localhost:8080/"
        }
      },
      "source": [
        "predicao = rede(Xtensor)\r\n",
        "predicao.shape"
      ],
      "execution_count": 11,
      "outputs": [
        {
          "output_type": "stream",
          "text": [
            "/usr/local/lib/python3.6/dist-packages/ipykernel_launcher.py:14: UserWarning: Implicit dimension choice for softmax has been deprecated. Change the call to include dim=X as an argument.\n",
            "  \n"
          ],
          "name": "stderr"
        },
        {
          "output_type": "execute_result",
          "data": {
            "text/plain": [
              "torch.Size([442, 1])"
            ]
          },
          "metadata": {
            "tags": []
          },
          "execution_count": 11
        }
      ]
    },
    {
      "cell_type": "code",
      "metadata": {
        "id": "6jH3yO5N_5qe",
        "outputId": "f0573f1f-d6d9-4ce3-d0ad-0a7400cfa626",
        "colab": {
          "base_uri": "https://localhost:8080/"
        }
      },
      "source": [
        "loss = criterio(predicao.squeeze(),Ytensor)\r\n",
        "loss.data"
      ],
      "execution_count": 13,
      "outputs": [
        {
          "output_type": "execute_result",
          "data": {
            "text/plain": [
              "tensor(28771.2168, device='cuda:0')"
            ]
          },
          "metadata": {
            "tags": []
          },
          "execution_count": 13
        }
      ]
    },
    {
      "cell_type": "code",
      "metadata": {
        "id": "shGxtK-8AKBu"
      },
      "source": [
        ""
      ],
      "execution_count": null,
      "outputs": []
    }
  ]
}