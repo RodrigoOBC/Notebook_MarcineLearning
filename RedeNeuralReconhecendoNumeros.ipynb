{
  "nbformat": 4,
  "nbformat_minor": 0,
  "metadata": {
    "colab": {
      "name": "Untitled8.ipynb",
      "provenance": [],
      "collapsed_sections": [],
      "authorship_tag": "ABX9TyOtu/zGQMfoevlSUM9sJOpl",
      "include_colab_link": true
    },
    "kernelspec": {
      "name": "python3",
      "display_name": "Python 3"
    },
    "accelerator": "GPU"
  },
  "cells": [
    {
      "cell_type": "markdown",
      "metadata": {
        "id": "view-in-github",
        "colab_type": "text"
      },
      "source": [
        "<a href=\"https://colab.research.google.com/github/RodrigoOBC/Notebook_MarcineLearning/blob/master/RedeNeuralReconhecendoNumeros.ipynb\" target=\"_parent\"><img src=\"https://colab.research.google.com/assets/colab-badge.svg\" alt=\"Open In Colab\"/></a>"
      ]
    },
    {
      "cell_type": "code",
      "metadata": {
        "id": "2u2dNY4XeHm7"
      },
      "source": [
        "import torch\r\n",
        "from torch import nn, optim\r\n",
        "from sklearn import datasets\r\n",
        "import matplotlib.pyplot as plt\r\n",
        "from sklearn.preprocessing import StandardScaler\r\n",
        "import numpy as np\r\n",
        "from torch.utils.data import DataLoader\r\n",
        "from torchvision import datasets\r\n",
        "from torchvision import transforms"
      ],
      "execution_count": 1,
      "outputs": []
    },
    {
      "cell_type": "code",
      "metadata": {
        "id": "nqZXy7c6eOkt"
      },
      "source": [
        "args = {\r\n",
        "    'batch_size': 5,\r\n",
        "    'num_workers': 4,\r\n",
        "    'num_classes': 10,\r\n",
        "    'lr': 1e-4,\r\n",
        "    'weight_decay': 5e-4,\r\n",
        "    'num_epochs': 10\r\n",
        "}"
      ],
      "execution_count": 15,
      "outputs": []
    },
    {
      "cell_type": "code",
      "metadata": {
        "colab": {
          "base_uri": "https://localhost:8080/"
        },
        "id": "OvAzINC8eVmS",
        "outputId": "aedacf38-91a0-441d-df74-fe7575601973"
      },
      "source": [
        "if torch.cuda.is_available():\r\n",
        "  args['device'] = torch.device('cuda')\r\n",
        "else:\r\n",
        "  args['device'] = torch.device('cpu')\r\n",
        "\r\n",
        "args['device']"
      ],
      "execution_count": 16,
      "outputs": [
        {
          "output_type": "execute_result",
          "data": {
            "text/plain": [
              "device(type='cuda')"
            ]
          },
          "metadata": {
            "tags": []
          },
          "execution_count": 16
        }
      ]
    },
    {
      "cell_type": "code",
      "metadata": {
        "id": "NQkgO8joeear"
      },
      "source": [
        "tarin_df = datasets.MNIST('./',\r\n",
        "                          train=True,\r\n",
        "                          transform=transforms.ToTensor(),\r\n",
        "                          download=True\r\n",
        "                          )\r\n",
        "test_df = datasets.MNIST('./',\r\n",
        "                          train=False,\r\n",
        "                          transform=transforms.ToTensor(),\r\n",
        "                          download=True\r\n",
        "                          )"
      ],
      "execution_count": 18,
      "outputs": []
    },
    {
      "cell_type": "code",
      "metadata": {
        "colab": {
          "base_uri": "https://localhost:8080/",
          "height": 808
        },
        "id": "atQzdQ5zfjrp",
        "outputId": "22e214c3-3437-47ed-a974-06baaa68a96b"
      },
      "source": [
        "for x in range(0,3):\r\n",
        "  valor, target = tarin_df[x]\r\n",
        "\r\n",
        "  plt.figure()\r\n",
        "  plt.imshow(valor[0])\r\n",
        "  plt.title(f'O alvo é: {target}')"
      ],
      "execution_count": 19,
      "outputs": [
        {
          "output_type": "display_data",
          "data": {
            "image/png": "[encoded data removed]",
            "text/plain": [
              "<Figure size 432x288 with 1 Axes>"
            ]
          },
          "metadata": {
            "tags": [],
            "needs_background": "light"
          }
        },
        {
          "output_type": "display_data",
          "data": {
            "image/png": "[encoded data removed]",
            "text/plain": [
              "<Figure size 432x288 with 1 Axes>"
            ]
          },
          "metadata": {
            "tags": [],
            "needs_background": "light"
          }
        },
        {
          "output_type": "display_data",
          "data": {
            "image/png": "[encoded data removed]",
            "text/plain": [
              "<Figure size 432x288 with 1 Axes>"
            ]
          },
          "metadata": {
            "tags": [],
            "needs_background": "light"
          }
        }
      ]
    },
    {
      "cell_type": "code",
      "metadata": {
        "id": "Uf443j-Qgd8z"
      },
      "source": [
        "loader_train = DataLoader(tarin_df,\r\n",
        "                          batch_size=args['batch_size'],\r\n",
        "                          shuffle=True,\r\n",
        "                          num_workers=args['num_workers']) \r\n",
        "learder_test = DataLoader(test_df,\r\n",
        "                          batch_size=args['batch_size'],\r\n",
        "                          shuffle=True,\r\n",
        "                          num_workers=args['num_workers']) "
      ],
      "execution_count": 20,
      "outputs": []
    },
    {
      "cell_type": "code",
      "metadata": {
        "id": "qRQNn49xiEPi"
      },
      "source": [
        "class classificador_de_numeros(nn.Module):\r\n",
        "\r\n",
        "  def __init__(self, input_size, hidden_size, out_size):\r\n",
        "    super(classificador_de_numeros, self).__init__()\r\n",
        "\r\n",
        "    self.features  = nn.Sequential(\r\n",
        "                      nn.Linear(input_size, hidden_size),\r\n",
        "                      nn.ReLU(),\r\n",
        "                      nn.Linear(hidden_size, hidden_size),\r\n",
        "                      nn.ReLU()\r\n",
        "                    )\r\n",
        "    self.out     = nn.Linear(hidden_size, out_size)\r\n",
        "    self.softmax = nn.Softmax()\r\n",
        "\r\n",
        "  def forward(self, X):\r\n",
        "    \r\n",
        "    X = X.view(X.size(0), -1)\r\n",
        "\r\n",
        "    feature = self.features(X)\r\n",
        "    output  = self.softmax(self.out(feature))\r\n",
        "\r\n",
        "\r\n",
        "    return output"
      ],
      "execution_count": 21,
      "outputs": []
    },
    {
      "cell_type": "code",
      "metadata": {
        "id": "RWK7as6nnPCz"
      },
      "source": [
        "input_size = 28*28\r\n",
        "hiden_size = 128\r\n",
        "out_size = 10"
      ],
      "execution_count": 22,
      "outputs": []
    },
    {
      "cell_type": "code",
      "metadata": {
        "id": "4ImcymRknnYh"
      },
      "source": [
        "rede_neural = classificador_de_numeros(input_size,hiden_size,out_size).to(args['device'])"
      ],
      "execution_count": 23,
      "outputs": []
    },
    {
      "cell_type": "code",
      "metadata": {
        "id": "FhFHUUxAoOHf"
      },
      "source": [
        "criterio = nn.CrossEntropyLoss().to(args['device'])\r\n",
        "opitimize = optim.Adam(rede_neural.parameters(),lr=args['lr'],weight_decay=args['weight_decay'])"
      ],
      "execution_count": 24,
      "outputs": []
    },
    {
      "cell_type": "code",
      "metadata": {
        "colab": {
          "base_uri": "https://localhost:8080/"
        },
        "id": "9QZITigSpbd2",
        "outputId": "48b5e6a7-5645-4ba6-af20-314cbd9b1135"
      },
      "source": [
        "for epoca in range(args['num_epochs']):\r\n",
        "\r\n",
        "  epoca_loss = []\r\n",
        "  for batch in loader_train:\r\n",
        "    \r\n",
        "    dado, rotulo = batch\r\n",
        "\r\n",
        "    # Cast na GPU\r\n",
        "    dado   = dado.to(args['device'])\r\n",
        "    rotulo = rotulo.to(args['device'])\r\n",
        "\r\n",
        "    # Forward \r\n",
        "    pred = rede_neural(dado)\r\n",
        "    loss = criterio(pred, rotulo)\r\n",
        "    epoca_loss.append(loss.cpu().data)\r\n",
        "\r\n",
        "    # Backward\r\n",
        "    loss.backward()\r\n",
        "    opitimize.step()\r\n",
        "\r\n",
        "  epoca_loss = np.asarray(epoca_loss)\r\n",
        "  print(f'Epoca: {epoca}  |  Perda: {epoca_loss.mean():.2f}  +/- {epoca_loss.std():.2f}')"
      ],
      "execution_count": 25,
      "outputs": [
        {
          "output_type": "stream",
          "text": [
            "/usr/local/lib/python3.6/dist-packages/ipykernel_launcher.py:20: UserWarning: Implicit dimension choice for softmax has been deprecated. Change the call to include dim=X as an argument.\n"
          ],
          "name": "stderr"
        },
        {
          "output_type": "stream",
          "text": [
            "Epoca: 0  |  Perda: 1.85  +/- 0.23\n",
            "Epoca: 1  |  Perda: 2.08  +/- 0.23\n",
            "Epoca: 2  |  Perda: 2.22  +/- 0.19\n",
            "Epoca: 3  |  Perda: 2.20  +/- 0.20\n",
            "Epoca: 4  |  Perda: 2.25  +/- 0.18\n",
            "Epoca: 5  |  Perda: 2.32  +/- 0.16\n",
            "Epoca: 6  |  Perda: 2.34  +/- 0.14\n",
            "Epoca: 7  |  Perda: 2.30  +/- 0.16\n",
            "Epoca: 8  |  Perda: 2.28  +/- 0.17\n",
            "Epoca: 9  |  Perda: 2.26  +/- 0.18\n"
          ],
          "name": "stdout"
        }
      ]
    },
    {
      "cell_type": "code",
      "metadata": {
        "colab": {
          "base_uri": "https://localhost:8080/"
        },
        "id": "DwSFVOmKrmQC",
        "outputId": "b7e0c98e-eb85-465e-8962-d173ab4d52a3"
      },
      "source": [
        ""
      ],
      "execution_count": null,
      "outputs": [
        {
          "output_type": "stream",
          "text": [
            "Perda: 0.13\n"
          ],
          "name": "stdout"
        }
      ]
    },
    {
      "cell_type": "code",
      "metadata": {
        "id": "YhszqPFLrp3M"
      },
      "source": [
        ""
      ],
      "execution_count": null,
      "outputs": []
    }
  ]
}